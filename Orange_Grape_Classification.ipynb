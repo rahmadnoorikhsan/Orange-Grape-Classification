{
  "nbformat": 4,
  "nbformat_minor": 0,
  "metadata": {
    "colab": {
      "provenance": []
    },
    "kernelspec": {
      "name": "python3",
      "display_name": "Python 3"
    },
    "language_info": {
      "name": "python"
    }
  },
  "cells": [
    {
      "cell_type": "code",
      "source": [
        "import pandas as pd\n",
        "df = pd.read_csv('./sample_data/citrus.csv')"
      ],
      "metadata": {
        "id": "xkM1CyyGmZh7"
      },
      "execution_count": 7,
      "outputs": []
    },
    {
      "cell_type": "code",
      "source": [
        "df.info()"
      ],
      "metadata": {
        "colab": {
          "base_uri": "https://localhost:8080/",
          "height": 0
        },
        "id": "iphv8mtompNE",
        "outputId": "dc85ed2b-3efc-4c20-805e-3775b9e14acf"
      },
      "execution_count": 8,
      "outputs": [
        {
          "output_type": "stream",
          "name": "stdout",
          "text": [
            "<class 'pandas.core.frame.DataFrame'>\n",
            "RangeIndex: 10000 entries, 0 to 9999\n",
            "Data columns (total 6 columns):\n",
            " #   Column    Non-Null Count  Dtype  \n",
            "---  ------    --------------  -----  \n",
            " 0   name      10000 non-null  object \n",
            " 1   diameter  10000 non-null  float64\n",
            " 2   weight    10000 non-null  float64\n",
            " 3   red       10000 non-null  int64  \n",
            " 4   green     10000 non-null  int64  \n",
            " 5   blue      10000 non-null  int64  \n",
            "dtypes: float64(2), int64(3), object(1)\n",
            "memory usage: 468.9+ KB\n"
          ]
        }
      ]
    },
    {
      "cell_type": "code",
      "source": [
        "df.head(1000)"
      ],
      "metadata": {
        "colab": {
          "base_uri": "https://localhost:8080/",
          "height": 423
        },
        "id": "HWKIlzu_m0C-",
        "outputId": "50774cdc-9e08-43f7-8605-e700b92cac67"
      },
      "execution_count": 9,
      "outputs": [
        {
          "output_type": "execute_result",
          "data": {
            "text/plain": [
              "       name  diameter  weight  red  green  blue\n",
              "0    orange      2.96   86.76  172     85     2\n",
              "1    orange      3.91   88.05  166     78     3\n",
              "2    orange      4.42   95.17  156     81     2\n",
              "3    orange      4.47   95.60  163     81     4\n",
              "4    orange      4.48   95.76  161     72     9\n",
              "..      ...       ...     ...  ...    ...   ...\n",
              "995  orange      7.43  137.10  158     78     3\n",
              "996  orange      7.44  137.12  164     97     2\n",
              "997  orange      7.44  137.18  140     88     2\n",
              "998  orange      7.44  137.23  148     85     2\n",
              "999  orange      7.44  137.24  166     83     7\n",
              "\n",
              "[1000 rows x 6 columns]"
            ],
            "text/html": [
              "\n",
              "  <div id=\"df-3c508daa-8dc7-4a76-bc0d-71f42ff27515\" class=\"colab-df-container\">\n",
              "    <div>\n",
              "<style scoped>\n",
              "    .dataframe tbody tr th:only-of-type {\n",
              "        vertical-align: middle;\n",
              "    }\n",
              "\n",
              "    .dataframe tbody tr th {\n",
              "        vertical-align: top;\n",
              "    }\n",
              "\n",
              "    .dataframe thead th {\n",
              "        text-align: right;\n",
              "    }\n",
              "</style>\n",
              "<table border=\"1\" class=\"dataframe\">\n",
              "  <thead>\n",
              "    <tr style=\"text-align: right;\">\n",
              "      <th></th>\n",
              "      <th>name</th>\n",
              "      <th>diameter</th>\n",
              "      <th>weight</th>\n",
              "      <th>red</th>\n",
              "      <th>green</th>\n",
              "      <th>blue</th>\n",
              "    </tr>\n",
              "  </thead>\n",
              "  <tbody>\n",
              "    <tr>\n",
              "      <th>0</th>\n",
              "      <td>orange</td>\n",
              "      <td>2.96</td>\n",
              "      <td>86.76</td>\n",
              "      <td>172</td>\n",
              "      <td>85</td>\n",
              "      <td>2</td>\n",
              "    </tr>\n",
              "    <tr>\n",
              "      <th>1</th>\n",
              "      <td>orange</td>\n",
              "      <td>3.91</td>\n",
              "      <td>88.05</td>\n",
              "      <td>166</td>\n",
              "      <td>78</td>\n",
              "      <td>3</td>\n",
              "    </tr>\n",
              "    <tr>\n",
              "      <th>2</th>\n",
              "      <td>orange</td>\n",
              "      <td>4.42</td>\n",
              "      <td>95.17</td>\n",
              "      <td>156</td>\n",
              "      <td>81</td>\n",
              "      <td>2</td>\n",
              "    </tr>\n",
              "    <tr>\n",
              "      <th>3</th>\n",
              "      <td>orange</td>\n",
              "      <td>4.47</td>\n",
              "      <td>95.60</td>\n",
              "      <td>163</td>\n",
              "      <td>81</td>\n",
              "      <td>4</td>\n",
              "    </tr>\n",
              "    <tr>\n",
              "      <th>4</th>\n",
              "      <td>orange</td>\n",
              "      <td>4.48</td>\n",
              "      <td>95.76</td>\n",
              "      <td>161</td>\n",
              "      <td>72</td>\n",
              "      <td>9</td>\n",
              "    </tr>\n",
              "    <tr>\n",
              "      <th>...</th>\n",
              "      <td>...</td>\n",
              "      <td>...</td>\n",
              "      <td>...</td>\n",
              "      <td>...</td>\n",
              "      <td>...</td>\n",
              "      <td>...</td>\n",
              "    </tr>\n",
              "    <tr>\n",
              "      <th>995</th>\n",
              "      <td>orange</td>\n",
              "      <td>7.43</td>\n",
              "      <td>137.10</td>\n",
              "      <td>158</td>\n",
              "      <td>78</td>\n",
              "      <td>3</td>\n",
              "    </tr>\n",
              "    <tr>\n",
              "      <th>996</th>\n",
              "      <td>orange</td>\n",
              "      <td>7.44</td>\n",
              "      <td>137.12</td>\n",
              "      <td>164</td>\n",
              "      <td>97</td>\n",
              "      <td>2</td>\n",
              "    </tr>\n",
              "    <tr>\n",
              "      <th>997</th>\n",
              "      <td>orange</td>\n",
              "      <td>7.44</td>\n",
              "      <td>137.18</td>\n",
              "      <td>140</td>\n",
              "      <td>88</td>\n",
              "      <td>2</td>\n",
              "    </tr>\n",
              "    <tr>\n",
              "      <th>998</th>\n",
              "      <td>orange</td>\n",
              "      <td>7.44</td>\n",
              "      <td>137.23</td>\n",
              "      <td>148</td>\n",
              "      <td>85</td>\n",
              "      <td>2</td>\n",
              "    </tr>\n",
              "    <tr>\n",
              "      <th>999</th>\n",
              "      <td>orange</td>\n",
              "      <td>7.44</td>\n",
              "      <td>137.24</td>\n",
              "      <td>166</td>\n",
              "      <td>83</td>\n",
              "      <td>7</td>\n",
              "    </tr>\n",
              "  </tbody>\n",
              "</table>\n",
              "<p>1000 rows × 6 columns</p>\n",
              "</div>\n",
              "    <div class=\"colab-df-buttons\">\n",
              "\n",
              "  <div class=\"colab-df-container\">\n",
              "    <button class=\"colab-df-convert\" onclick=\"convertToInteractive('df-3c508daa-8dc7-4a76-bc0d-71f42ff27515')\"\n",
              "            title=\"Convert this dataframe to an interactive table.\"\n",
              "            style=\"display:none;\">\n",
              "\n",
              "  <svg xmlns=\"http://www.w3.org/2000/svg\" height=\"24px\" viewBox=\"0 -960 960 960\">\n",
              "    <path d=\"M120-120v-720h720v720H120Zm60-500h600v-160H180v160Zm220 220h160v-160H400v160Zm0 220h160v-160H400v160ZM180-400h160v-160H180v160Zm440 0h160v-160H620v160ZM180-180h160v-160H180v160Zm440 0h160v-160H620v160Z\"/>\n",
              "  </svg>\n",
              "    </button>\n",
              "\n",
              "  <style>\n",
              "    .colab-df-container {\n",
              "      display:flex;\n",
              "      gap: 12px;\n",
              "    }\n",
              "\n",
              "    .colab-df-convert {\n",
              "      background-color: #E8F0FE;\n",
              "      border: none;\n",
              "      border-radius: 50%;\n",
              "      cursor: pointer;\n",
              "      display: none;\n",
              "      fill: #1967D2;\n",
              "      height: 32px;\n",
              "      padding: 0 0 0 0;\n",
              "      width: 32px;\n",
              "    }\n",
              "\n",
              "    .colab-df-convert:hover {\n",
              "      background-color: #E2EBFA;\n",
              "      box-shadow: 0px 1px 2px rgba(60, 64, 67, 0.3), 0px 1px 3px 1px rgba(60, 64, 67, 0.15);\n",
              "      fill: #174EA6;\n",
              "    }\n",
              "\n",
              "    .colab-df-buttons div {\n",
              "      margin-bottom: 4px;\n",
              "    }\n",
              "\n",
              "    [theme=dark] .colab-df-convert {\n",
              "      background-color: #3B4455;\n",
              "      fill: #D2E3FC;\n",
              "    }\n",
              "\n",
              "    [theme=dark] .colab-df-convert:hover {\n",
              "      background-color: #434B5C;\n",
              "      box-shadow: 0px 1px 3px 1px rgba(0, 0, 0, 0.15);\n",
              "      filter: drop-shadow(0px 1px 2px rgba(0, 0, 0, 0.3));\n",
              "      fill: #FFFFFF;\n",
              "    }\n",
              "  </style>\n",
              "\n",
              "    <script>\n",
              "      const buttonEl =\n",
              "        document.querySelector('#df-3c508daa-8dc7-4a76-bc0d-71f42ff27515 button.colab-df-convert');\n",
              "      buttonEl.style.display =\n",
              "        google.colab.kernel.accessAllowed ? 'block' : 'none';\n",
              "\n",
              "      async function convertToInteractive(key) {\n",
              "        const element = document.querySelector('#df-3c508daa-8dc7-4a76-bc0d-71f42ff27515');\n",
              "        const dataTable =\n",
              "          await google.colab.kernel.invokeFunction('convertToInteractive',\n",
              "                                                    [key], {});\n",
              "        if (!dataTable) return;\n",
              "\n",
              "        const docLinkHtml = 'Like what you see? Visit the ' +\n",
              "          '<a target=\"_blank\" href=https://colab.research.google.com/notebooks/data_table.ipynb>data table notebook</a>'\n",
              "          + ' to learn more about interactive tables.';\n",
              "        element.innerHTML = '';\n",
              "        dataTable['output_type'] = 'display_data';\n",
              "        await google.colab.output.renderOutput(dataTable, element);\n",
              "        const docLink = document.createElement('div');\n",
              "        docLink.innerHTML = docLinkHtml;\n",
              "        element.appendChild(docLink);\n",
              "      }\n",
              "    </script>\n",
              "  </div>\n",
              "\n",
              "\n",
              "<div id=\"df-6d06b08d-ebea-4331-be13-de3c77ec6760\">\n",
              "  <button class=\"colab-df-quickchart\" onclick=\"quickchart('df-6d06b08d-ebea-4331-be13-de3c77ec6760')\"\n",
              "            title=\"Suggest charts\"\n",
              "            style=\"display:none;\">\n",
              "\n",
              "<svg xmlns=\"http://www.w3.org/2000/svg\" height=\"24px\"viewBox=\"0 0 24 24\"\n",
              "     width=\"24px\">\n",
              "    <g>\n",
              "        <path d=\"M19 3H5c-1.1 0-2 .9-2 2v14c0 1.1.9 2 2 2h14c1.1 0 2-.9 2-2V5c0-1.1-.9-2-2-2zM9 17H7v-7h2v7zm4 0h-2V7h2v10zm4 0h-2v-4h2v4z\"/>\n",
              "    </g>\n",
              "</svg>\n",
              "  </button>\n",
              "\n",
              "<style>\n",
              "  .colab-df-quickchart {\n",
              "      --bg-color: #E8F0FE;\n",
              "      --fill-color: #1967D2;\n",
              "      --hover-bg-color: #E2EBFA;\n",
              "      --hover-fill-color: #174EA6;\n",
              "      --disabled-fill-color: #AAA;\n",
              "      --disabled-bg-color: #DDD;\n",
              "  }\n",
              "\n",
              "  [theme=dark] .colab-df-quickchart {\n",
              "      --bg-color: #3B4455;\n",
              "      --fill-color: #D2E3FC;\n",
              "      --hover-bg-color: #434B5C;\n",
              "      --hover-fill-color: #FFFFFF;\n",
              "      --disabled-bg-color: #3B4455;\n",
              "      --disabled-fill-color: #666;\n",
              "  }\n",
              "\n",
              "  .colab-df-quickchart {\n",
              "    background-color: var(--bg-color);\n",
              "    border: none;\n",
              "    border-radius: 50%;\n",
              "    cursor: pointer;\n",
              "    display: none;\n",
              "    fill: var(--fill-color);\n",
              "    height: 32px;\n",
              "    padding: 0;\n",
              "    width: 32px;\n",
              "  }\n",
              "\n",
              "  .colab-df-quickchart:hover {\n",
              "    background-color: var(--hover-bg-color);\n",
              "    box-shadow: 0 1px 2px rgba(60, 64, 67, 0.3), 0 1px 3px 1px rgba(60, 64, 67, 0.15);\n",
              "    fill: var(--button-hover-fill-color);\n",
              "  }\n",
              "\n",
              "  .colab-df-quickchart-complete:disabled,\n",
              "  .colab-df-quickchart-complete:disabled:hover {\n",
              "    background-color: var(--disabled-bg-color);\n",
              "    fill: var(--disabled-fill-color);\n",
              "    box-shadow: none;\n",
              "  }\n",
              "\n",
              "  .colab-df-spinner {\n",
              "    border: 2px solid var(--fill-color);\n",
              "    border-color: transparent;\n",
              "    border-bottom-color: var(--fill-color);\n",
              "    animation:\n",
              "      spin 1s steps(1) infinite;\n",
              "  }\n",
              "\n",
              "  @keyframes spin {\n",
              "    0% {\n",
              "      border-color: transparent;\n",
              "      border-bottom-color: var(--fill-color);\n",
              "      border-left-color: var(--fill-color);\n",
              "    }\n",
              "    20% {\n",
              "      border-color: transparent;\n",
              "      border-left-color: var(--fill-color);\n",
              "      border-top-color: var(--fill-color);\n",
              "    }\n",
              "    30% {\n",
              "      border-color: transparent;\n",
              "      border-left-color: var(--fill-color);\n",
              "      border-top-color: var(--fill-color);\n",
              "      border-right-color: var(--fill-color);\n",
              "    }\n",
              "    40% {\n",
              "      border-color: transparent;\n",
              "      border-right-color: var(--fill-color);\n",
              "      border-top-color: var(--fill-color);\n",
              "    }\n",
              "    60% {\n",
              "      border-color: transparent;\n",
              "      border-right-color: var(--fill-color);\n",
              "    }\n",
              "    80% {\n",
              "      border-color: transparent;\n",
              "      border-right-color: var(--fill-color);\n",
              "      border-bottom-color: var(--fill-color);\n",
              "    }\n",
              "    90% {\n",
              "      border-color: transparent;\n",
              "      border-bottom-color: var(--fill-color);\n",
              "    }\n",
              "  }\n",
              "</style>\n",
              "\n",
              "  <script>\n",
              "    async function quickchart(key) {\n",
              "      const quickchartButtonEl =\n",
              "        document.querySelector('#' + key + ' button');\n",
              "      quickchartButtonEl.disabled = true;  // To prevent multiple clicks.\n",
              "      quickchartButtonEl.classList.add('colab-df-spinner');\n",
              "      try {\n",
              "        const charts = await google.colab.kernel.invokeFunction(\n",
              "            'suggestCharts', [key], {});\n",
              "      } catch (error) {\n",
              "        console.error('Error during call to suggestCharts:', error);\n",
              "      }\n",
              "      quickchartButtonEl.classList.remove('colab-df-spinner');\n",
              "      quickchartButtonEl.classList.add('colab-df-quickchart-complete');\n",
              "    }\n",
              "    (() => {\n",
              "      let quickchartButtonEl =\n",
              "        document.querySelector('#df-6d06b08d-ebea-4331-be13-de3c77ec6760 button');\n",
              "      quickchartButtonEl.style.display =\n",
              "        google.colab.kernel.accessAllowed ? 'block' : 'none';\n",
              "    })();\n",
              "  </script>\n",
              "</div>\n",
              "    </div>\n",
              "  </div>\n"
            ],
            "application/vnd.google.colaboratory.intrinsic+json": {
              "type": "dataframe",
              "variable_name": "df",
              "summary": "{\n  \"name\": \"df\",\n  \"rows\": 10000,\n  \"fields\": [\n    {\n      \"column\": \"name\",\n      \"properties\": {\n        \"dtype\": \"category\",\n        \"num_unique_values\": 2,\n        \"samples\": [\n          \"grapefruit\",\n          \"orange\"\n        ],\n        \"semantic_type\": \"\",\n        \"description\": \"\"\n      }\n    },\n    {\n      \"column\": \"diameter\",\n      \"properties\": {\n        \"dtype\": \"number\",\n        \"std\": 1.9478436590925432,\n        \"min\": 2.96,\n        \"max\": 16.45,\n        \"num_unique_values\": 940,\n        \"samples\": [\n          11.37,\n          5.8\n        ],\n        \"semantic_type\": \"\",\n        \"description\": \"\"\n      }\n    },\n    {\n      \"column\": \"weight\",\n      \"properties\": {\n        \"dtype\": \"number\",\n        \"std\": 29.21211926177066,\n        \"min\": 86.76,\n        \"max\": 261.51,\n        \"num_unique_values\": 6627,\n        \"samples\": [\n          192.1,\n          190.16\n        ],\n        \"semantic_type\": \"\",\n        \"description\": \"\"\n      }\n    },\n    {\n      \"column\": \"red\",\n      \"properties\": {\n        \"dtype\": \"number\",\n        \"std\": 10,\n        \"min\": 115,\n        \"max\": 192,\n        \"num_unique_values\": 75,\n        \"samples\": [\n          161,\n          130\n        ],\n        \"semantic_type\": \"\",\n        \"description\": \"\"\n      }\n    },\n    {\n      \"column\": \"green\",\n      \"properties\": {\n        \"dtype\": \"number\",\n        \"std\": 11,\n        \"min\": 31,\n        \"max\": 116,\n        \"num_unique_values\": 80,\n        \"samples\": [\n          91,\n          85\n        ],\n        \"semantic_type\": \"\",\n        \"description\": \"\"\n      }\n    },\n    {\n      \"column\": \"blue\",\n      \"properties\": {\n        \"dtype\": \"number\",\n        \"std\": 9,\n        \"min\": 2,\n        \"max\": 56,\n        \"num_unique_values\": 48,\n        \"samples\": [\n          26,\n          39\n        ],\n        \"semantic_type\": \"\",\n        \"description\": \"\"\n      }\n    }\n  ]\n}"
            }
          },
          "metadata": {},
          "execution_count": 9
        }
      ]
    },
    {
      "cell_type": "code",
      "source": [
        "df.name[df.name == 'orange'] = 0\n",
        "df.name[df.name == 'grapefruit'] = 1"
      ],
      "metadata": {
        "colab": {
          "base_uri": "https://localhost:8080/",
          "height": 0
        },
        "id": "A1KnA4-em_Rm",
        "outputId": "30d6e32f-b5e1-43db-e556-daedb7ac736b"
      },
      "execution_count": 10,
      "outputs": [
        {
          "output_type": "stream",
          "name": "stderr",
          "text": [
            "<ipython-input-10-e9c3e7476411>:1: SettingWithCopyWarning: \n",
            "A value is trying to be set on a copy of a slice from a DataFrame\n",
            "\n",
            "See the caveats in the documentation: https://pandas.pydata.org/pandas-docs/stable/user_guide/indexing.html#returning-a-view-versus-a-copy\n",
            "  df.name[df.name == 'orange'] = 0\n",
            "<ipython-input-10-e9c3e7476411>:2: SettingWithCopyWarning: \n",
            "A value is trying to be set on a copy of a slice from a DataFrame\n",
            "\n",
            "See the caveats in the documentation: https://pandas.pydata.org/pandas-docs/stable/user_guide/indexing.html#returning-a-view-versus-a-copy\n",
            "  df.name[df.name == 'grapefruit'] = 1\n"
          ]
        }
      ]
    },
    {
      "cell_type": "code",
      "source": [
        "dataset = df.values"
      ],
      "metadata": {
        "id": "Pz8ND-vGnZVo"
      },
      "execution_count": 11,
      "outputs": []
    },
    {
      "cell_type": "code",
      "source": [
        "dataset"
      ],
      "metadata": {
        "colab": {
          "base_uri": "https://localhost:8080/",
          "height": 0
        },
        "id": "81aUDoV3nh6q",
        "outputId": "fab1591e-39c5-44b5-cd0f-4ab7087ae4e0"
      },
      "execution_count": 12,
      "outputs": [
        {
          "output_type": "execute_result",
          "data": {
            "text/plain": [
              "array([[0, 2.96, 86.76, 172, 85, 2],\n",
              "       [0, 3.91, 88.05, 166, 78, 3],\n",
              "       [0, 4.42, 95.17, 156, 81, 2],\n",
              "       ...,\n",
              "       [1, 15.59, 256.5, 168, 82, 20],\n",
              "       [1, 15.92, 260.14, 142, 72, 11],\n",
              "       [1, 16.45, 261.51, 152, 74, 2]], dtype=object)"
            ]
          },
          "metadata": {},
          "execution_count": 12
        }
      ]
    },
    {
      "cell_type": "code",
      "source": [
        "X = dataset[:,1:6]"
      ],
      "metadata": {
        "id": "D-yUjVO9ntGZ"
      },
      "execution_count": 13,
      "outputs": []
    },
    {
      "cell_type": "code",
      "source": [
        "y = dataset[:,0]"
      ],
      "metadata": {
        "id": "oKUKcoirn3RN"
      },
      "execution_count": 14,
      "outputs": []
    },
    {
      "cell_type": "code",
      "source": [
        "from sklearn import preprocessing\n",
        "min_max_scaler = preprocessing.MinMaxScaler()\n",
        "X_scale = min_max_scaler.fit_transform(X)\n",
        "X_scale"
      ],
      "metadata": {
        "colab": {
          "base_uri": "https://localhost:8080/",
          "height": 0
        },
        "id": "FBnveEZfoBRw",
        "outputId": "4c57a941-19a0-48d9-f9b3-bba1f0367e94"
      },
      "execution_count": 15,
      "outputs": [
        {
          "output_type": "execute_result",
          "data": {
            "text/plain": [
              "array([[0.        , 0.        , 0.74025974, 0.63529412, 0.        ],\n",
              "       [0.07042254, 0.00738197, 0.66233766, 0.55294118, 0.01851852],\n",
              "       [0.10822832, 0.04812589, 0.53246753, 0.58823529, 0.        ],\n",
              "       ...,\n",
              "       [0.93624907, 0.97133047, 0.68831169, 0.6       , 0.33333333],\n",
              "       [0.96071164, 0.99216023, 0.35064935, 0.48235294, 0.16666667],\n",
              "       [1.        , 1.        , 0.48051948, 0.50588235, 0.        ]])"
            ]
          },
          "metadata": {},
          "execution_count": 15
        }
      ]
    },
    {
      "cell_type": "code",
      "source": [
        "from sklearn.model_selection import train_test_split\n",
        "X_train, X_test, Y_train, Y_test = train_test_split(X_scale, y, test_size=0.3)"
      ],
      "metadata": {
        "id": "YSUnu5YtoNux"
      },
      "execution_count": 16,
      "outputs": []
    },
    {
      "cell_type": "code",
      "source": [
        "import numpy as np\n",
        "\n",
        "Y_train = Y_train.astype(np.float32)\n",
        "Y_test = Y_test.astype(np.float32)"
      ],
      "metadata": {
        "id": "0M0ClXj-oYUr"
      },
      "execution_count": 19,
      "outputs": []
    },
    {
      "cell_type": "code",
      "source": [
        "from keras.models import Sequential\n",
        "from keras.layers import Dense\n",
        "\n",
        "model = Sequential([\n",
        "    Dense(32, activation='relu', input_shape=(5,)),\n",
        "    Dense(32, activation='relu'),\n",
        "    Dense(1, activation='sigmoid'),\n",
        "])"
      ],
      "metadata": {
        "id": "4C8GHaSFo3Q4"
      },
      "execution_count": 20,
      "outputs": []
    },
    {
      "cell_type": "code",
      "source": [
        "model.compile(optimizer='sgd', loss='binary_crossentropy', metrics=['accuracy'])"
      ],
      "metadata": {
        "id": "2Q05f2WjpqN8"
      },
      "execution_count": 21,
      "outputs": []
    },
    {
      "cell_type": "code",
      "source": [
        "model.fit(X_train, Y_train, epochs=100)"
      ],
      "metadata": {
        "colab": {
          "base_uri": "https://localhost:8080/"
        },
        "id": "0XV2wN7kqBFk",
        "outputId": "3ee1e19e-beb4-44cc-87c6-bab6496e0eb2"
      },
      "execution_count": 22,
      "outputs": [
        {
          "output_type": "stream",
          "name": "stdout",
          "text": [
            "Epoch 1/100\n",
            "219/219 [==============================] - 1s 2ms/step - loss: 0.6781 - accuracy: 0.6781\n",
            "Epoch 2/100\n",
            "219/219 [==============================] - 0s 2ms/step - loss: 0.6276 - accuracy: 0.8789\n",
            "Epoch 3/100\n",
            "219/219 [==============================] - 0s 2ms/step - loss: 0.5619 - accuracy: 0.8989\n",
            "Epoch 4/100\n",
            "219/219 [==============================] - 0s 2ms/step - loss: 0.4718 - accuracy: 0.9177\n",
            "Epoch 5/100\n",
            "219/219 [==============================] - 0s 2ms/step - loss: 0.3764 - accuracy: 0.9213\n",
            "Epoch 6/100\n",
            "219/219 [==============================] - 0s 2ms/step - loss: 0.3009 - accuracy: 0.9241\n",
            "Epoch 7/100\n",
            "219/219 [==============================] - 0s 2ms/step - loss: 0.2527 - accuracy: 0.9250\n",
            "Epoch 8/100\n",
            "219/219 [==============================] - 0s 2ms/step - loss: 0.2247 - accuracy: 0.9240\n",
            "Epoch 9/100\n",
            "219/219 [==============================] - 0s 2ms/step - loss: 0.2084 - accuracy: 0.9244\n",
            "Epoch 10/100\n",
            "219/219 [==============================] - 0s 2ms/step - loss: 0.1986 - accuracy: 0.9253\n",
            "Epoch 11/100\n",
            "219/219 [==============================] - 0s 2ms/step - loss: 0.1921 - accuracy: 0.9254\n",
            "Epoch 12/100\n",
            "219/219 [==============================] - 0s 2ms/step - loss: 0.1881 - accuracy: 0.9276\n",
            "Epoch 13/100\n",
            "219/219 [==============================] - 0s 2ms/step - loss: 0.1852 - accuracy: 0.9260\n",
            "Epoch 14/100\n",
            "219/219 [==============================] - 0s 2ms/step - loss: 0.1834 - accuracy: 0.9246\n",
            "Epoch 15/100\n",
            "219/219 [==============================] - 0s 2ms/step - loss: 0.1819 - accuracy: 0.9263\n",
            "Epoch 16/100\n",
            "219/219 [==============================] - 0s 2ms/step - loss: 0.1810 - accuracy: 0.9267\n",
            "Epoch 17/100\n",
            "219/219 [==============================] - 0s 2ms/step - loss: 0.1803 - accuracy: 0.9254\n",
            "Epoch 18/100\n",
            "219/219 [==============================] - 0s 2ms/step - loss: 0.1798 - accuracy: 0.9257\n",
            "Epoch 19/100\n",
            "219/219 [==============================] - 0s 2ms/step - loss: 0.1794 - accuracy: 0.9267\n",
            "Epoch 20/100\n",
            "219/219 [==============================] - 0s 2ms/step - loss: 0.1792 - accuracy: 0.9254\n",
            "Epoch 21/100\n",
            "219/219 [==============================] - 1s 3ms/step - loss: 0.1783 - accuracy: 0.9254\n",
            "Epoch 22/100\n",
            "219/219 [==============================] - 1s 2ms/step - loss: 0.1787 - accuracy: 0.9264\n",
            "Epoch 23/100\n",
            "219/219 [==============================] - 1s 3ms/step - loss: 0.1784 - accuracy: 0.9257\n",
            "Epoch 24/100\n",
            "219/219 [==============================] - 1s 3ms/step - loss: 0.1786 - accuracy: 0.9267\n",
            "Epoch 25/100\n",
            "219/219 [==============================] - 1s 3ms/step - loss: 0.1782 - accuracy: 0.9256\n",
            "Epoch 26/100\n",
            "219/219 [==============================] - 0s 2ms/step - loss: 0.1785 - accuracy: 0.9249\n",
            "Epoch 27/100\n",
            "219/219 [==============================] - 0s 2ms/step - loss: 0.1780 - accuracy: 0.9261\n",
            "Epoch 28/100\n",
            "219/219 [==============================] - 0s 2ms/step - loss: 0.1782 - accuracy: 0.9261\n",
            "Epoch 29/100\n",
            "219/219 [==============================] - 0s 2ms/step - loss: 0.1780 - accuracy: 0.9257\n",
            "Epoch 30/100\n",
            "219/219 [==============================] - 0s 2ms/step - loss: 0.1778 - accuracy: 0.9257\n",
            "Epoch 31/100\n",
            "219/219 [==============================] - 0s 2ms/step - loss: 0.1781 - accuracy: 0.9253\n",
            "Epoch 32/100\n",
            "219/219 [==============================] - 0s 2ms/step - loss: 0.1780 - accuracy: 0.9250\n",
            "Epoch 33/100\n",
            "219/219 [==============================] - 0s 2ms/step - loss: 0.1781 - accuracy: 0.9254\n",
            "Epoch 34/100\n",
            "219/219 [==============================] - 0s 2ms/step - loss: 0.1779 - accuracy: 0.9260\n",
            "Epoch 35/100\n",
            "219/219 [==============================] - 0s 2ms/step - loss: 0.1777 - accuracy: 0.9261\n",
            "Epoch 36/100\n",
            "219/219 [==============================] - 0s 2ms/step - loss: 0.1777 - accuracy: 0.9260\n",
            "Epoch 37/100\n",
            "219/219 [==============================] - 0s 2ms/step - loss: 0.1781 - accuracy: 0.9260\n",
            "Epoch 38/100\n",
            "219/219 [==============================] - 0s 2ms/step - loss: 0.1780 - accuracy: 0.9241\n",
            "Epoch 39/100\n",
            "219/219 [==============================] - 0s 2ms/step - loss: 0.1776 - accuracy: 0.9263\n",
            "Epoch 40/100\n",
            "219/219 [==============================] - 0s 2ms/step - loss: 0.1778 - accuracy: 0.9266\n",
            "Epoch 41/100\n",
            "219/219 [==============================] - 0s 2ms/step - loss: 0.1778 - accuracy: 0.9250\n",
            "Epoch 42/100\n",
            "219/219 [==============================] - 0s 2ms/step - loss: 0.1779 - accuracy: 0.9261\n",
            "Epoch 43/100\n",
            "219/219 [==============================] - 0s 2ms/step - loss: 0.1776 - accuracy: 0.9251\n",
            "Epoch 44/100\n",
            "219/219 [==============================] - 0s 2ms/step - loss: 0.1778 - accuracy: 0.9256\n",
            "Epoch 45/100\n",
            "219/219 [==============================] - 0s 2ms/step - loss: 0.1779 - accuracy: 0.9257\n",
            "Epoch 46/100\n",
            "219/219 [==============================] - 0s 2ms/step - loss: 0.1778 - accuracy: 0.9267\n",
            "Epoch 47/100\n",
            "219/219 [==============================] - 0s 2ms/step - loss: 0.1774 - accuracy: 0.9254\n",
            "Epoch 48/100\n",
            "219/219 [==============================] - 0s 2ms/step - loss: 0.1776 - accuracy: 0.9253\n",
            "Epoch 49/100\n",
            "219/219 [==============================] - 0s 2ms/step - loss: 0.1776 - accuracy: 0.9249\n",
            "Epoch 50/100\n",
            "219/219 [==============================] - 0s 2ms/step - loss: 0.1771 - accuracy: 0.9271\n",
            "Epoch 51/100\n",
            "219/219 [==============================] - 1s 2ms/step - loss: 0.1778 - accuracy: 0.9259\n",
            "Epoch 52/100\n",
            "219/219 [==============================] - 1s 3ms/step - loss: 0.1771 - accuracy: 0.9274\n",
            "Epoch 53/100\n",
            "219/219 [==============================] - 1s 3ms/step - loss: 0.1777 - accuracy: 0.9247\n",
            "Epoch 54/100\n",
            "219/219 [==============================] - 1s 2ms/step - loss: 0.1772 - accuracy: 0.9254\n",
            "Epoch 55/100\n",
            "219/219 [==============================] - 1s 3ms/step - loss: 0.1775 - accuracy: 0.9283\n",
            "Epoch 56/100\n",
            "219/219 [==============================] - 0s 2ms/step - loss: 0.1776 - accuracy: 0.9263\n",
            "Epoch 57/100\n",
            "219/219 [==============================] - 0s 2ms/step - loss: 0.1772 - accuracy: 0.9274\n",
            "Epoch 58/100\n",
            "219/219 [==============================] - 0s 2ms/step - loss: 0.1776 - accuracy: 0.9243\n",
            "Epoch 59/100\n",
            "219/219 [==============================] - 0s 2ms/step - loss: 0.1775 - accuracy: 0.9249\n",
            "Epoch 60/100\n",
            "219/219 [==============================] - 0s 2ms/step - loss: 0.1775 - accuracy: 0.9259\n",
            "Epoch 61/100\n",
            "219/219 [==============================] - 0s 2ms/step - loss: 0.1771 - accuracy: 0.9250\n",
            "Epoch 62/100\n",
            "219/219 [==============================] - 0s 2ms/step - loss: 0.1772 - accuracy: 0.9261\n",
            "Epoch 63/100\n",
            "219/219 [==============================] - 0s 2ms/step - loss: 0.1775 - accuracy: 0.9261\n",
            "Epoch 64/100\n",
            "219/219 [==============================] - 0s 2ms/step - loss: 0.1772 - accuracy: 0.9261\n",
            "Epoch 65/100\n",
            "219/219 [==============================] - 0s 2ms/step - loss: 0.1768 - accuracy: 0.9251\n",
            "Epoch 66/100\n",
            "219/219 [==============================] - 0s 2ms/step - loss: 0.1775 - accuracy: 0.9256\n",
            "Epoch 67/100\n",
            "219/219 [==============================] - 0s 2ms/step - loss: 0.1773 - accuracy: 0.9264\n",
            "Epoch 68/100\n",
            "219/219 [==============================] - 0s 2ms/step - loss: 0.1774 - accuracy: 0.9251\n",
            "Epoch 69/100\n",
            "219/219 [==============================] - 0s 2ms/step - loss: 0.1774 - accuracy: 0.9253\n",
            "Epoch 70/100\n",
            "219/219 [==============================] - 0s 2ms/step - loss: 0.1773 - accuracy: 0.9241\n",
            "Epoch 71/100\n",
            "219/219 [==============================] - 0s 2ms/step - loss: 0.1769 - accuracy: 0.9253\n",
            "Epoch 72/100\n",
            "219/219 [==============================] - 0s 2ms/step - loss: 0.1768 - accuracy: 0.9263\n",
            "Epoch 73/100\n",
            "219/219 [==============================] - 0s 2ms/step - loss: 0.1772 - accuracy: 0.9246\n",
            "Epoch 74/100\n",
            "219/219 [==============================] - 0s 2ms/step - loss: 0.1769 - accuracy: 0.9256\n",
            "Epoch 75/100\n",
            "219/219 [==============================] - 0s 2ms/step - loss: 0.1772 - accuracy: 0.9261\n",
            "Epoch 76/100\n",
            "219/219 [==============================] - 0s 2ms/step - loss: 0.1771 - accuracy: 0.9260\n",
            "Epoch 77/100\n",
            "219/219 [==============================] - 0s 2ms/step - loss: 0.1764 - accuracy: 0.9267\n",
            "Epoch 78/100\n",
            "219/219 [==============================] - 0s 2ms/step - loss: 0.1766 - accuracy: 0.9267\n",
            "Epoch 79/100\n",
            "219/219 [==============================] - 0s 2ms/step - loss: 0.1769 - accuracy: 0.9251\n",
            "Epoch 80/100\n",
            "219/219 [==============================] - 0s 2ms/step - loss: 0.1769 - accuracy: 0.9264\n",
            "Epoch 81/100\n",
            "219/219 [==============================] - 0s 2ms/step - loss: 0.1768 - accuracy: 0.9271\n",
            "Epoch 82/100\n",
            "219/219 [==============================] - 1s 3ms/step - loss: 0.1771 - accuracy: 0.9264\n",
            "Epoch 83/100\n",
            "219/219 [==============================] - 1s 2ms/step - loss: 0.1767 - accuracy: 0.9253\n",
            "Epoch 84/100\n",
            "219/219 [==============================] - 1s 3ms/step - loss: 0.1772 - accuracy: 0.9249\n",
            "Epoch 85/100\n",
            "219/219 [==============================] - 1s 3ms/step - loss: 0.1771 - accuracy: 0.9263\n",
            "Epoch 86/100\n",
            "219/219 [==============================] - 1s 3ms/step - loss: 0.1770 - accuracy: 0.9264\n",
            "Epoch 87/100\n",
            "219/219 [==============================] - 0s 2ms/step - loss: 0.1767 - accuracy: 0.9264\n",
            "Epoch 88/100\n",
            "219/219 [==============================] - 0s 2ms/step - loss: 0.1766 - accuracy: 0.9259\n",
            "Epoch 89/100\n",
            "219/219 [==============================] - 0s 2ms/step - loss: 0.1770 - accuracy: 0.9253\n",
            "Epoch 90/100\n",
            "219/219 [==============================] - 0s 2ms/step - loss: 0.1768 - accuracy: 0.9254\n",
            "Epoch 91/100\n",
            "219/219 [==============================] - 0s 2ms/step - loss: 0.1769 - accuracy: 0.9253\n",
            "Epoch 92/100\n",
            "219/219 [==============================] - 0s 2ms/step - loss: 0.1766 - accuracy: 0.9267\n",
            "Epoch 93/100\n",
            "219/219 [==============================] - 0s 2ms/step - loss: 0.1769 - accuracy: 0.9266\n",
            "Epoch 94/100\n",
            "219/219 [==============================] - 0s 2ms/step - loss: 0.1767 - accuracy: 0.9271\n",
            "Epoch 95/100\n",
            "219/219 [==============================] - 0s 2ms/step - loss: 0.1770 - accuracy: 0.9254\n",
            "Epoch 96/100\n",
            "219/219 [==============================] - 0s 2ms/step - loss: 0.1767 - accuracy: 0.9247\n",
            "Epoch 97/100\n",
            "219/219 [==============================] - 0s 2ms/step - loss: 0.1769 - accuracy: 0.9259\n",
            "Epoch 98/100\n",
            "219/219 [==============================] - 0s 2ms/step - loss: 0.1765 - accuracy: 0.9277\n",
            "Epoch 99/100\n",
            "219/219 [==============================] - 0s 2ms/step - loss: 0.1765 - accuracy: 0.9264\n",
            "Epoch 100/100\n",
            "219/219 [==============================] - 0s 2ms/step - loss: 0.1764 - accuracy: 0.9267\n"
          ]
        },
        {
          "output_type": "execute_result",
          "data": {
            "text/plain": [
              "<keras.src.callbacks.History at 0x7987300a95a0>"
            ]
          },
          "metadata": {},
          "execution_count": 22
        }
      ]
    },
    {
      "cell_type": "code",
      "source": [
        "model.evaluate(X_test, Y_test)"
      ],
      "metadata": {
        "colab": {
          "base_uri": "https://localhost:8080/"
        },
        "id": "eCHpiHb3qfj1",
        "outputId": "1500100e-65cc-4f9b-af75-f9421c7c2731"
      },
      "execution_count": 23,
      "outputs": [
        {
          "output_type": "stream",
          "name": "stdout",
          "text": [
            "94/94 [==============================] - 1s 3ms/step - loss: 0.1745 - accuracy: 0.9330\n"
          ]
        },
        {
          "output_type": "execute_result",
          "data": {
            "text/plain": [
              "[0.17451876401901245, 0.9330000281333923]"
            ]
          },
          "metadata": {},
          "execution_count": 23
        }
      ]
    }
  ]
}